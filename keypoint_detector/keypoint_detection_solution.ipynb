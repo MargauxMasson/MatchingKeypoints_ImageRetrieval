{
 "cells": [
  {
   "cell_type": "markdown",
   "metadata": {},
   "source": [
    "## Keypoint Detection Solution\n",
    "---"
   ]
  },
  {
   "cell_type": "code",
   "execution_count": 1,
   "metadata": {},
   "outputs": [],
   "source": [
    "# load packages\n",
    "import cv2\n",
    "import numpy as np\n",
    "import os\n",
    "import torch\n",
    "import matplotlib.pyplot as plt\n",
    "import matplotlib.image as mpimg\n",
    "%matplotlib inline"
   ]
  },
  {
   "cell_type": "code",
   "execution_count": 2,
   "metadata": {},
   "outputs": [],
   "source": [
    "# Initiate SIFT detector\n",
    "sift = cv2.xfeatures2d.SIFT_create(200)"
   ]
  },
  {
   "cell_type": "code",
   "execution_count": 3,
   "metadata": {},
   "outputs": [],
   "source": [
    "def getPatches(kps, img, size=32, num=500):\n",
    "    res = torch.zeros(num, 1, size, size)\n",
    "    if type(img) is np.ndarray:\n",
    "        img = torch.from_numpy(img)\n",
    "    h, w = img.shape      # note: for image, the x direction is the verticle, y-direction is the horizontal...\n",
    "    for i in range(num):\n",
    "        cx, cy = kps[i]\n",
    "        cx, cy = int(cx), int(cy)\n",
    "        dd = int(size/2)\n",
    "        xmin, xmax = max(0, cx - dd), min(w, cx + dd ) - 1\n",
    "        ymin, ymax = max(0, cy - dd), min(h, cy + dd ) - 1 \n",
    "        \n",
    "        xmin_res, xmax_res = dd - min(dd,cx), dd + min(dd, w - cx)-1\n",
    "        ymin_res, ymax_res = dd - min(dd,cy), dd + min(dd, h - cy)-1\n",
    "\n",
    "        res[i, 0, ymin_res: ymax_res, xmin_res: xmax_res] = img[ymin: ymax, xmin: xmax]\n",
    "    return res"
   ]
  },
  {
   "cell_type": "code",
   "execution_count": 4,
   "metadata": {},
   "outputs": [],
   "source": [
    "img_dir = \"img\"\n",
    "kps_num = 200\n",
    "patch_size = 32\n",
    "res = torch.zeros(5, kps_num, 2)\n",
    "patches = torch.zeros(5, kps_num, 1, patch_size, patch_size)\n",
    "if os.path.exists(img_dir):\n",
    "    if os.listdir(img_dir) is []:\n",
    "        print(\"No images!\")\n",
    "        exit(0)\n",
    "    num_img = len(os.listdir(img_dir))\n",
    "    idx = 0\n",
    "    for img in os.listdir(img_dir):\n",
    "        if not img.endswith(\"jpg\"):\n",
    "            continue\n",
    "        image_dir = os.path.join(img_dir, img)\n",
    "        image = cv2.imread(image_dir)\n",
    "        img= cv2.cvtColor(image,cv2.COLOR_BGR2GRAY)\n",
    "        \n",
    "        ## find the keypoints and descriptors with SIFT\n",
    "        kps, des = sift.detectAndCompute(img, None)\n",
    "        keypoints_img = [kps[a].pt for a in range(kps_num)] \n",
    "        res[idx] = torch.FloatTensor(keypoints_img)\n",
    "        \n",
    "        ## extract patches\n",
    "        patches[idx] = getPatches(keypoints_img, img, size=patch_size, num=kps_num)\n",
    "        idx += 1\n",
    "        \n",
    "        ## plot keypoints on each image\n",
    "        # img2 = cv2.drawKeypoints(img, kps, None, color=(255,0,0), flags=cv2.DRAW_MATCHES_FLAGS_DRAW_RICH_KEYPOINTS)\n",
    "        # plt.imshow(img2)\n",
    "        # plt.show()\n",
    "else:\n",
    "    print(\"image folder not exists!\")\n",
    "    exit(0)"
   ]
  },
  {
   "cell_type": "code",
   "execution_count": 5,
   "metadata": {},
   "outputs": [
    {
     "name": "stdout",
     "output_type": "stream",
     "text": [
      "torch.Size([5, 200, 2])\n",
      "torch.Size([5, 200, 1, 32, 32])\n"
     ]
    }
   ],
   "source": [
    "print(res.shape)\n",
    "print(patches.shape)"
   ]
  },
  {
   "cell_type": "code",
   "execution_count": 6,
   "metadata": {},
   "outputs": [],
   "source": [
    "## save tensors\n",
    "output_dir_kps = \"keypoints.pt\"\n",
    "output_dir_patches = \"patches.pt\"\n",
    "torch.save(res, output_dir_kps)\n",
    "torch.save(patches, output_dir_patches)"
   ]
  },
  {
   "cell_type": "code",
   "execution_count": null,
   "metadata": {},
   "outputs": [],
   "source": []
  }
 ],
 "metadata": {
  "kernelspec": {
   "display_name": "Python 3",
   "language": "python",
   "name": "python3"
  },
  "language_info": {
   "codemirror_mode": {
    "name": "ipython",
    "version": 3
   },
   "file_extension": ".py",
   "mimetype": "text/x-python",
   "name": "python",
   "nbconvert_exporter": "python",
   "pygments_lexer": "ipython3",
   "version": "3.6.3"
  }
 },
 "nbformat": 4,
 "nbformat_minor": 2
}
